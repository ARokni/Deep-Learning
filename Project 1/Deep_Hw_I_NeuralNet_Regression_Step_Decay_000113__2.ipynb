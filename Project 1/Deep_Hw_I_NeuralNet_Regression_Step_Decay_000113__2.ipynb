{
  "nbformat": 4,
  "nbformat_minor": 0,
  "metadata": {
    "colab": {
      "name": "Deep_Hw_I_NeuralNet_Regression_Step_Decay_000113 _2.ipynb",
      "provenance": [],
      "collapsed_sections": []
    },
    "kernelspec": {
      "display_name": "Python 3",
      "language": "python",
      "name": "python3"
    },
    "language_info": {
      "codemirror_mode": {
        "name": "ipython",
        "version": 3
      },
      "file_extension": ".py",
      "mimetype": "text/x-python",
      "name": "python",
      "nbconvert_exporter": "python",
      "pygments_lexer": "ipython3",
      "version": "3.8.5"
    }
  },
  "cells": [
    {
      "cell_type": "markdown",
      "metadata": {
        "id": "LhEKf2U9o03h"
      },
      "source": [
        "# <font color=slateblue>**Importing Neccessary Libraries**</font> #"
      ]
    },
    {
      "cell_type": "code",
      "metadata": {
        "id": "qkvJVKlDo40_"
      },
      "source": [
        "import zipfile\n",
        "from sklearn.preprocessing import Normalizer\n",
        "import numpy as np\n",
        "from PIL import Image, ImageDraw\n",
        "from numpy import linalg as LA\n",
        "import os, fnmatch, glob\n",
        "from sklearn.metrics import confusion_matrix\n",
        "from sklearn.decomposition import PCA\n",
        "import random\n",
        "import matplotlib.image as mpImg\n",
        "import os\n",
        "import pandas as pd\n",
        "from glob import glob   \n",
        "from matplotlib import pyplot as plt \n",
        "from sklearn.preprocessing import StandardScaler\n",
        "from sklearn.model_selection import train_test_split\n",
        "from numpy import linalg as LA"
      ],
      "execution_count": null,
      "outputs": []
    },
    {
      "cell_type": "markdown",
      "metadata": {
        "id": "gsls2g7upJle"
      },
      "source": [
        "# <font color=slateblue>**Neccessary Functions**</font> #"
      ]
    },
    {
      "cell_type": "code",
      "metadata": {
        "id": "-CAiDYuTpFQH"
      },
      "source": [
        "#https://stackoverflow.com/questions/8290397/how-to-split-an-iterable-in-constant-size-chunks\n",
        "def batch(iterable, n=1):\n",
        "    l = len(iterable)\n",
        "    for ndx in range(0, l, n):\n",
        "        yield iterable[ndx:min(ndx + n, l)]"
      ],
      "execution_count": null,
      "outputs": []
    },
    {
      "cell_type": "markdown",
      "metadata": {
        "id": "_qFqa1GVpbhJ"
      },
      "source": [
        "# <font color=slateblue>**Activation & Loss Functions**</font> #"
      ]
    },
    {
      "cell_type": "code",
      "metadata": {
        "id": "NR0lxl3qpgma"
      },
      "source": [
        "class LeakyReLU():\n",
        "  def __init__(self):\n",
        "    pass\n",
        "  def val(self, inputData):\n",
        "    zerosVect = np.zeros(np.shape(inputData))\n",
        "    return np.maximum(zerosVect, inputData)\n",
        "  def prime(self, inputData):\n",
        "    return np.heaviside(inputData, 0.0)\n"
      ],
      "execution_count": null,
      "outputs": []
    },
    {
      "cell_type": "code",
      "metadata": {
        "id": "f92tIr-opk_n"
      },
      "source": [
        "class SquareErr():\n",
        "  def __init__(self):\n",
        "    pass\n",
        "  def val(self, estimatedOutput, expectedOutput):\n",
        "    expectedOutput = expectedOutput.reshape(np.shape(estimatedOutput))\n",
        "    loss = np.mean(np.square(estimatedOutput - expectedOutput))\n",
        "    lossRate = 2*(estimatedOutput - expectedOutput)/len(estimatedOutput)\n",
        "    return loss, lossRate"
      ],
      "execution_count": null,
      "outputs": []
    },
    {
      "cell_type": "markdown",
      "metadata": {
        "id": "Q9JWTm2xppEN"
      },
      "source": [
        "# <font color=slateblue>**Neural Layer Class**</font>: #"
      ]
    },
    {
      "cell_type": "code",
      "metadata": {
        "id": "g7KR_u7tptlH"
      },
      "source": [
        "class NeuralLayer():\n",
        "  def __init__(self, inputDim, outPutDim, activFnc, weightsRange):\n",
        "    self.activeFnc = activFnc\n",
        "    self.weights = np.random.randn(inputDim, outPutDim)*np.sqrt(2/inputDim)\n",
        "    self.bias = 0.0*np.random.randn(1, outPutDim)*np.sqrt(2/inputDim)\n",
        "\n",
        "    self.nodesValues = np.zeros(outPutDim)\n",
        "    self.deltaWeights  = np.zeros((inputDim, outPutDim)) \n",
        "    self.deltaBias  = np.zeros(outPutDim)\n",
        "  def forward(self, data):\n",
        "    self.inputLayer = data\n",
        "    self.nodesVal = np.matmul(self.inputLayer, self.weights) + self.bias\n",
        "    h = self.activeFnc.val(self.nodesVal)\n",
        "    return h\n",
        "  def backward(self, lossRate, learningRate, momentum):\n",
        "    h = self.activeFnc.val(self.nodesVal)\n",
        "    gradient = np.multiply(lossRate, self.activeFnc.prime(self.nodesVal))\n",
        "    deltaWeights = -learningRate*np.matmul(self.inputLayer.T, gradient)  + momentum*self.deltaWeights\n",
        "    deltaBias = - learningRate*np.matmul(np.ones(len(gradient)), gradient)+ momentum*self.deltaBias\n",
        "    self.bias = self.bias + deltaBias \n",
        "    self.weights = self.weights + deltaWeights\n",
        "    self.deltaWeights  = deltaWeights\n",
        "    self.deltaBias  = deltaBias\n",
        "    return np.matmul(gradient, self.weights.T)"
      ],
      "execution_count": null,
      "outputs": []
    },
    {
      "cell_type": "markdown",
      "metadata": {
        "id": "K4VVC3ZDpxkr"
      },
      "source": [
        "# <font color=slateblue>**Neural Net Class**</font> #"
      ]
    },
    {
      "cell_type": "code",
      "metadata": {
        "id": "YiGZ3GEUp0dx"
      },
      "source": [
        "class NeuralNet():\n",
        "  def __init__(self):\n",
        "    self.layers = []\n",
        "  def addLayer(self, _inputDim, _outputDim, _activFnc, _initialWeightsRange):\n",
        "    neuralLayer = NeuralLayer(inputDim = _inputDim, outPutDim = _outputDim, activFnc = _activFnc, \n",
        "                              weightsRange = _initialWeightsRange)\n",
        "    self.layers.append(neuralLayer)\n",
        "  def predict(self, _data):\n",
        "    layerVal = _data\n",
        "    for layer in self.layers:\n",
        "      layerVal = layer.forward(layerVal)\n",
        "    return layerVal\n",
        "  def __update(self, _outPutLossRate):\n",
        "    _lossRate = _outPutLossRate\n",
        "    for layer in reversed(self.layers):\n",
        "      _lossRate = layer.backward(_lossRate, self.learningRate,  self.momentum)\n",
        "  def compile(self, _decayRate, _learningRate, _bachSize, _lossFnc, _momentum, _epochs, _earlyStopping = False, _trainSize = 0.9):\n",
        "    self.learningRate = _learningRate\n",
        "    self.batchSize = _bachSize\n",
        "    self.lossFnc = _lossFnc\n",
        "    self.momentum = _momentum\n",
        "    self.epochs = _epochs\n",
        "    self.earlyStopping = _earlyStopping\n",
        "    self._trainSize = _trainSize\n",
        "    self._decayRate = _decayRate\n",
        "  def fit(self, _dataSet, _output):\n",
        "    trainSize = int(np.ceil(self._trainSize*len(_dataSet)))\n",
        "    _dataSetTrain, _outputTrain= _dataSet[:trainSize], _output[:trainSize]\n",
        "    _dataSetVal, _outputVal = _dataSet[trainSize:], _output[trainSize:]\n",
        "    historyLossVal = []\n",
        "    historyLossTrain = []\n",
        "    epochNumber = 0\n",
        "    for epoch in range(self.epochs):\n",
        "      lossValidation = []\n",
        "      lossTraining = []\n",
        "      for batchDataTrain, batchOutputTrain, batchDataVal, batchOutputVal  in zip(batch(_dataSetTrain, self.batchSize), \n",
        "                              batch(_outputTrain, self.batchSize),batch(_dataSetVal, self.batchSize), batch(_outputVal, self.batchSize)):\n",
        "        yTrain = self.predict(batchDataTrain)\n",
        "        lossTrain, lossRateTrain = self.lossFnc.val(estimatedOutput = yTrain, expectedOutput = batchOutputTrain)\n",
        "        self.__update(lossRateTrain)\n",
        "        yVal = self.predict(batchDataVal)\n",
        "        lossVal, lossRateVal = self.lossFnc.val(estimatedOutput = yVal, expectedOutput = batchOutputVal)\n",
        "        lossValidation.append(np.sqrt(lossVal))\n",
        "        lossTraining.append(np.sqrt(lossTrain))\n",
        "      historyLossVal.append(np.mean(lossValidation))\n",
        "      historyLossTrain.append(np.mean(lossTraining))\n",
        "      #self.learningRate = self.learningRate *self._decayRate\n",
        "      if epochNumber %10 ==0:\n",
        "        self.learningRate = self.learningRate *self._decayRate\n",
        "      epochNumber +=1\n",
        "    return historyLossVal, historyLossTrain"
      ],
      "execution_count": null,
      "outputs": []
    },
    {
      "cell_type": "markdown",
      "metadata": {
        "id": "gGQTOgk9qBB4"
      },
      "source": [
        "# <font color=slateblue>**Train Net and Test that**</font> #"
      ]
    },
    {
      "cell_type": "code",
      "metadata": {
        "id": "vL5HHMcgZ1fV"
      },
      "source": [
        "myData = []\n",
        "for i in range(23):\n",
        "  if i == 9 or i==14 or i == 15:\n",
        "    pass\n",
        "  else:\n",
        "    tmpData =  pd.read_csv('/content/drive/MyDrive/DeepNew/RedDimData7/Segment{0}.csv'.format(i))\n",
        "    myData.append(tmpData.values)\n",
        "myData = np.asarray(myData)\n",
        "myData = myData.reshape(20*1000,131)\n",
        "trainDataPC, testDataPC, trainDataOutput, testDataOutput =   train_test_split(myData[:,0:128], myData[:,128], test_size=0.1, \n",
        "                                                                               random_state=1)"
      ],
      "execution_count": null,
      "outputs": []
    },
    {
      "cell_type": "code",
      "metadata": {
        "colab": {
          "base_uri": "https://localhost:8080/",
          "height": 312
        },
        "id": "q2R-8jjqzLKd",
        "outputId": "15c443c7-fab8-403d-aa17-f04ee245ce5a"
      },
      "source": [
        "DIM_I = 16\n",
        "DIM_III = 8\n",
        "DIM_II = 1\n",
        "rate = 0.9\n",
        "\n",
        "myNet = NeuralNet()\n",
        "myNet.addLayer(_inputDim = np.shape(trainDataPC)[1], _outputDim = DIM_I, _activFnc = LeakyReLU(), \n",
        "              _initialWeightsRange = INITWEIGHTS)\n",
        "myNet.addLayer(_inputDim = DIM_I, _outputDim = DIM_III, _activFnc = LeakyReLU(), \n",
        "              _initialWeightsRange = INITWEIGHTS)\n",
        "myNet.addLayer(_inputDim = DIM_III, _outputDim = DIM_II, _activFnc = LeakyReLU(), \n",
        "              _initialWeightsRange = INITWEIGHTS)\n",
        "myNet.compile(_decayRate = rate, _learningRate = 0.001, _bachSize = 128, _lossFnc = SquareErr(), _momentum = 0.9,  _epochs = 1000,\n",
        "              _earlyStopping = False, _trainSize = 0.9)\n",
        "historyLossVal, lossTrian = myNet.fit(_dataSet = trainDataPC, _output = trainDataOutput)\n",
        "plt.plot(historyLossVal, label = 'Validation')\n",
        "plt.plot(np.asarray(lossTrian), label = 'Train')\n",
        "plt.legend(loc = 'upper right')\n",
        "plt.xlabel(\"Epochs\")\n",
        "plt.ylabel(\"Years\")\n",
        "plt.title(\"Loss Function Diagram with Step Decay\")\n",
        "plt.show()\n",
        "plt.close()\n",
        "predicted_output = myNet.predict(testDataPC)\n",
        "diff = predicted_output.reshape(np.shape(testDataOutput)) - testDataOutput\n",
        "print(\"RMSE on Test Data \", LA.norm(diff)/np.sqrt(len(testDataOutput)))"
      ],
      "execution_count": null,
      "outputs": [
        {
          "output_type": "display_data",
          "data": {
            "image/png": "[encoded data removed]",
            "text/plain": [
              "<Figure size 432x288 with 1 Axes>"
            ]
          },
          "metadata": {
            "tags": [],
            "needs_background": "light"
          }
        },
        {
          "output_type": "stream",
          "text": [
            "RMSE on Test Data  14.841640028682502\n"
          ],
          "name": "stdout"
        }
      ]
    },
    {
      "cell_type": "code",
      "metadata": {
        "colab": {
          "base_uri": "https://localhost:8080/"
        },
        "id": "zInjGElbQV6Q",
        "outputId": "b502ec5c-1c9d-4a39-c529-9c41f0824fda"
      },
      "source": [
        "np.floor(2%3)"
      ],
      "execution_count": null,
      "outputs": [
        {
          "output_type": "execute_result",
          "data": {
            "text/plain": [
              "2.0"
            ]
          },
          "metadata": {
            "tags": []
          },
          "execution_count": 73
        }
      ]
    }
  ]
}