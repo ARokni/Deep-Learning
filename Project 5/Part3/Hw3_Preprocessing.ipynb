{
  "nbformat": 4,
  "nbformat_minor": 0,
  "metadata": {
    "colab": {
      "name": "Hw3: Preprocessing.ipynb",
      "provenance": [],
      "toc_visible": true
    },
    "kernelspec": {
      "name": "python3",
      "display_name": "Python 3"
    },
    "language_info": {
      "name": "python"
    }
  },
  "cells": [
    {
      "cell_type": "code",
      "metadata": {
        "id": "pgLbkUPBZ9-N"
      },
      "source": [
        "import os  # when loading file paths\n",
        "import pandas as pd  # for lookup in annotation file\n",
        "import spacy  # for tokenizer\n",
        "import torch\n",
        "from torch.nn.utils.rnn import pad_sequence  # pad batch\n",
        "from torch.utils.data import DataLoader, Dataset\n",
        "from PIL import Image  # Load img\n",
        "import torchvision.transforms as transforms\n",
        "from torchtext.legacy.data import Field, TabularDataset, BucketIterator\n",
        "from sklearn.model_selection import train_test_split\n",
        "import string\n",
        "import numpy as np\n",
        "from torch import nn\n",
        "from torch.autograd import Variable\n",
        "from torchvision import datasets, models, transforms\n",
        "import torchvision\n",
        "import torch.optim as optim\n",
        "import matplotlib.pyplot as plt\n",
        "import nltk\n",
        "import torchvision.transforms as tfs\n",
        "import torch.nn.functional as F\n",
        "from sklearn.metrics import confusion_matrix\n",
        "from sklearn.metrics import classification_report\n",
        "import itertools\n",
        "from sklearn.metrics import accuracy_score\n",
        "from sklearn import  metrics"
      ],
      "execution_count": 227,
      "outputs": []
    },
    {
      "cell_type": "code",
      "metadata": {
        "colab": {
          "base_uri": "https://localhost:8080/"
        },
        "id": "eogGx2y5hZBi",
        "outputId": "182c0775-d62b-499b-bf62-ea4cec25c90f"
      },
      "source": [
        "nltk.download('punkt')"
      ],
      "execution_count": 228,
      "outputs": [
        {
          "output_type": "stream",
          "text": [
            "[nltk_data] Downloading package punkt to /root/nltk_data...\n",
            "[nltk_data]   Package punkt is already up-to-date!\n"
          ],
          "name": "stdout"
        },
        {
          "output_type": "execute_result",
          "data": {
            "text/plain": [
              "True"
            ]
          },
          "metadata": {
            "tags": []
          },
          "execution_count": 228
        }
      ]
    },
    {
      "cell_type": "code",
      "metadata": {
        "id": "MS9DtGq_hdln"
      },
      "source": [
        "def myTokenize(text):\n",
        "    return nltk.word_tokenize(text)"
      ],
      "execution_count": 229,
      "outputs": []
    },
    {
      "cell_type": "code",
      "metadata": {
        "id": "mliUcqzCaQBn"
      },
      "source": [
        "lineToInd = {'Cause-Effect(e1,e2)':0, 'Cause-Effect(e2,e1)':0,\n",
        "              'Instrument-Agency(e1,e2)':1,'Instrument-Agency(e2,e1)':1,\n",
        "              'Product-Producer(e1,e2)':2,'Product-Producer(e2,e1)':2,\n",
        "             'Content-Container(e1,e2)':3, 'Content-Container(e2,e1)':3,\n",
        "             'Entity-Origin(e1,e2)':4, 'Entity-Origin(e2,e1)':4,\n",
        "             'Entity-Destination(e1,e2)':5, 'Entity-Destination(e2,e1)':5,\n",
        "             'Component-Whole(e1,e2)':6,'Component-Whole(e2,e1)':6,\n",
        "             'Member-Collection(e1,e2)':7,'Member-Collection(e2,e1)':7,\n",
        "             'Message-Topic(e1,e2)':8,'Message-Topic(e2,e1)':8,\n",
        "             'Entity-Destination(e1,e2)':5 ,'Other':9}"
      ],
      "execution_count": 230,
      "outputs": []
    },
    {
      "cell_type": "code",
      "metadata": {
        "id": "Th9eso5BZqqz"
      },
      "source": [
        "#http://analyticmunch.weebly.com/semeval-2010-task-8.html\n",
        "import re\n",
        "import csv\n",
        "\n",
        "def read_line_by_line(file_txt):\n",
        "    all_lines = []\n",
        "    with open(file_txt, 'r') as file:\n",
        "        temp_lines = file.readlines()\n",
        "        for line in temp_lines:\n",
        "            line = line.strip()\n",
        "            if line:\n",
        "                all_lines.append(line)\n",
        "    return all_lines\n",
        "\n",
        "def load_extract(file_txt):\n",
        "    al_train = read_line_by_line(file_txt)\n",
        "    train_raw = []\n",
        "    i=0\n",
        "    for line1 in al_train:\n",
        "        train_raw.append(line1.split('|'))\n",
        "        i = i+1\n",
        "    #print train_raw\n",
        "    odd = []\n",
        "    even = []\n",
        "#Removing the comment line, for the hackathon purpose we remove the comment line from text file\n",
        "    for line in train_raw:\n",
        "        com = re.compile(r\"Comment:.*\") \n",
        "        new = filter(com.match,line)\n",
        "        if line == new:\n",
        "            train_raw.remove(line)\n",
        "        else:\n",
        "            continue\n",
        "    e1e2 = []\n",
        "    for odd_line in train_raw:\n",
        "        odd_string = ''.join(odd_line)\n",
        "        oddmatch =re.sub('\\t','',odd_string)\n",
        "        k=oddmatch.lstrip('0123456789.-')\n",
        "        asub = re.sub('<e1>', ' e11 ', k)\n",
        "        asub = asub.replace('</e1>', ' e12 ')\n",
        "        asub = asub.replace('<e2>', ' e21 ')\n",
        "        asub = asub.replace('</e2>', ' e22 ')\n",
        "        asub = odd_line2= asub.replace('\"', '')\n",
        "        e1e2.append(odd_line2)\n",
        "    return e1e2\n"
      ],
      "execution_count": 231,
      "outputs": []
    },
    {
      "cell_type": "code",
      "metadata": {
        "id": "IcCKeMnrbVT7"
      },
      "source": [
        "#text = load_extract('/content/drive/MyDrive/Hw3/TRAIN_FILE.TXT')\n",
        "text = load_extract('/content/drive/MyDrive/Hw3/TEST_FILE_FULL.TXT')\n",
        "sentence = []\n",
        "comment = []\n",
        "relation = []\n",
        "for cnt,line in enumerate(text):\n",
        "  if cnt%3==0:\n",
        "    sentence.append(line)\n",
        "  elif cnt%3==1:\n",
        "    relation.append(lineToInd[line])\n",
        "  else:\n",
        "    comment.append(line)\n",
        "    \n",
        "dataFrame = pd.DataFrame(list(zip(sentence, relation)),\n",
        "               columns =['sentence', 'relation'])"
      ],
      "execution_count": 232,
      "outputs": []
    },
    {
      "cell_type": "code",
      "metadata": {
        "id": "K2qDxy2cnPQX"
      },
      "source": [
        "for punc in string.punctuation+'\\n':\n",
        "      dataFrame[\"sentence\"] = dataFrame.sentence.str.replace(punc, \"\")"
      ],
      "execution_count": 233,
      "outputs": []
    },
    {
      "cell_type": "code",
      "metadata": {
        "id": "Ov1IHThlbaOs"
      },
      "source": [
        "entities = ['e11', 'e12', 'e21', 'e22']\n",
        "attentions = np.zeros([len(dataFrame), 4])\n",
        "for i in range(len(dataFrame)):\n",
        "  index = []\n",
        "  for cnt, entity in enumerate(entities):\n",
        "    cnt = cnt\n",
        "    amirStr = dataFrame['sentence'].iloc[i]\n",
        "    index.append(myTokenize(amirStr).index(entity)-cnt)\n",
        "  attentions[i,:] = np.asarray(index)"
      ],
      "execution_count": 234,
      "outputs": []
    },
    {
      "cell_type": "code",
      "metadata": {
        "id": "1KRfTQ5bvA2Q"
      },
      "source": [
        "attentions = attentions.astype(int)"
      ],
      "execution_count": 235,
      "outputs": []
    },
    {
      "cell_type": "code",
      "metadata": {
        "id": "5I-UkWhtkfXm"
      },
      "source": [
        "Myentities = ['e11', 'e12', 'e21', 'e22']\n",
        "for entity in Myentities:\n",
        "  dataFrame['sentence'] = dataFrame.sentence.str.replace(entity, \"\")"
      ],
      "execution_count": 236,
      "outputs": []
    },
    {
      "cell_type": "code",
      "metadata": {
        "id": "7PKS5WOztecL"
      },
      "source": [
        "dataFrame['e11'] = attentions[:,0]\n",
        "dataFrame['e12'] = attentions[:,1]\n",
        "dataFrame['e21'] = attentions[:,2]\n",
        "dataFrame['e22'] = attentions[:,3]"
      ],
      "execution_count": 237,
      "outputs": []
    },
    {
      "cell_type": "code",
      "metadata": {
        "colab": {
          "base_uri": "https://localhost:8080/",
          "height": 418
        },
        "id": "TXv3egEbuU6m",
        "outputId": "3650c775-7002-48aa-f93c-985d8fbb943c"
      },
      "source": [
        "dataFrame"
      ],
      "execution_count": 238,
      "outputs": [
        {
          "output_type": "execute_result",
          "data": {
            "text/html": [
              "<div>\n",
              "<style scoped>\n",
              "    .dataframe tbody tr th:only-of-type {\n",
              "        vertical-align: middle;\n",
              "    }\n",
              "\n",
              "    .dataframe tbody tr th {\n",
              "        vertical-align: top;\n",
              "    }\n",
              "\n",
              "    .dataframe thead th {\n",
              "        text-align: right;\n",
              "    }\n",
              "</style>\n",
              "<table border=\"1\" class=\"dataframe\">\n",
              "  <thead>\n",
              "    <tr style=\"text-align: right;\">\n",
              "      <th></th>\n",
              "      <th>sentence</th>\n",
              "      <th>relation</th>\n",
              "      <th>e11</th>\n",
              "      <th>e12</th>\n",
              "      <th>e21</th>\n",
              "      <th>e22</th>\n",
              "    </tr>\n",
              "  </thead>\n",
              "  <tbody>\n",
              "    <tr>\n",
              "      <th>0</th>\n",
              "      <td>The most common   audits   were about   waste ...</td>\n",
              "      <td>8</td>\n",
              "      <td>3</td>\n",
              "      <td>4</td>\n",
              "      <td>6</td>\n",
              "      <td>7</td>\n",
              "    </tr>\n",
              "    <tr>\n",
              "      <th>1</th>\n",
              "      <td>The   company   fabricates plastic   chairs</td>\n",
              "      <td>2</td>\n",
              "      <td>1</td>\n",
              "      <td>2</td>\n",
              "      <td>4</td>\n",
              "      <td>5</td>\n",
              "    </tr>\n",
              "    <tr>\n",
              "      <th>2</th>\n",
              "      <td>The school   master   teaches the lesson with ...</td>\n",
              "      <td>1</td>\n",
              "      <td>2</td>\n",
              "      <td>3</td>\n",
              "      <td>8</td>\n",
              "      <td>9</td>\n",
              "    </tr>\n",
              "    <tr>\n",
              "      <th>3</th>\n",
              "      <td>The suspect dumped the dead   body   into a lo...</td>\n",
              "      <td>5</td>\n",
              "      <td>5</td>\n",
              "      <td>6</td>\n",
              "      <td>9</td>\n",
              "      <td>10</td>\n",
              "    </tr>\n",
              "    <tr>\n",
              "      <th>4</th>\n",
              "      <td>Avian   influenza   is an infectious disease o...</td>\n",
              "      <td>0</td>\n",
              "      <td>1</td>\n",
              "      <td>2</td>\n",
              "      <td>16</td>\n",
              "      <td>17</td>\n",
              "    </tr>\n",
              "    <tr>\n",
              "      <th>...</th>\n",
              "      <td>...</td>\n",
              "      <td>...</td>\n",
              "      <td>...</td>\n",
              "      <td>...</td>\n",
              "      <td>...</td>\n",
              "      <td>...</td>\n",
              "    </tr>\n",
              "    <tr>\n",
              "      <th>2712</th>\n",
              "      <td>After seating all the idols which itself takes...</td>\n",
              "      <td>1</td>\n",
              "      <td>11</td>\n",
              "      <td>12</td>\n",
              "      <td>18</td>\n",
              "      <td>19</td>\n",
              "    </tr>\n",
              "    <tr>\n",
              "      <th>2713</th>\n",
              "      <td>The minister attributed the slow production of...</td>\n",
              "      <td>2</td>\n",
              "      <td>8</td>\n",
              "      <td>9</td>\n",
              "      <td>12</td>\n",
              "      <td>13</td>\n",
              "    </tr>\n",
              "    <tr>\n",
              "      <th>2714</th>\n",
              "      <td>The   umbrella     frame   is provided with a ...</td>\n",
              "      <td>6</td>\n",
              "      <td>1</td>\n",
              "      <td>2</td>\n",
              "      <td>2</td>\n",
              "      <td>3</td>\n",
              "    </tr>\n",
              "    <tr>\n",
              "      <th>2715</th>\n",
              "      <td>Manos The Hands of Fate is a lowbudget horror ...</td>\n",
              "      <td>2</td>\n",
              "      <td>9</td>\n",
              "      <td>10</td>\n",
              "      <td>15</td>\n",
              "      <td>16</td>\n",
              "    </tr>\n",
              "    <tr>\n",
              "      <th>2716</th>\n",
              "      <td>A few days before the service Tom Burris had t...</td>\n",
              "      <td>5</td>\n",
              "      <td>12</td>\n",
              "      <td>13</td>\n",
              "      <td>15</td>\n",
              "      <td>16</td>\n",
              "    </tr>\n",
              "  </tbody>\n",
              "</table>\n",
              "<p>2717 rows × 6 columns</p>\n",
              "</div>"
            ],
            "text/plain": [
              "                                               sentence  relation  ...  e21  e22\n",
              "0     The most common   audits   were about   waste ...         8  ...    6    7\n",
              "1         The   company   fabricates plastic   chairs           2  ...    4    5\n",
              "2     The school   master   teaches the lesson with ...         1  ...    8    9\n",
              "3     The suspect dumped the dead   body   into a lo...         5  ...    9   10\n",
              "4     Avian   influenza   is an infectious disease o...         0  ...   16   17\n",
              "...                                                 ...       ...  ...  ...  ...\n",
              "2712  After seating all the idols which itself takes...         1  ...   18   19\n",
              "2713  The minister attributed the slow production of...         2  ...   12   13\n",
              "2714  The   umbrella     frame   is provided with a ...         6  ...    2    3\n",
              "2715  Manos The Hands of Fate is a lowbudget horror ...         2  ...   15   16\n",
              "2716  A few days before the service Tom Burris had t...         5  ...   15   16\n",
              "\n",
              "[2717 rows x 6 columns]"
            ]
          },
          "metadata": {
            "tags": []
          },
          "execution_count": 238
        }
      ]
    },
    {
      "cell_type": "code",
      "metadata": {
        "id": "us1yI_VzvryH"
      },
      "source": [
        "# dataFrame.to_csv('train_file.csv', index=False)\n",
        "dataFrame.to_csv('test_file.csv', index=False)"
      ],
      "execution_count": 239,
      "outputs": []
    }
  ]
}